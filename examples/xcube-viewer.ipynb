{
 "cells": [
  {
   "cell_type": "code",
   "execution_count": 1,
   "id": "7da4953c-7143-4932-8db8-946d647f7c68",
   "metadata": {},
   "outputs": [],
   "source": [
    "from xcube.webapi.viewer import Viewer\n",
    "import xarray as xr"
   ]
  },
  {
   "cell_type": "code",
   "execution_count": 2,
   "id": "51c02ca2-a19a-4dfc-927e-4a2cb931a953",
   "metadata": {},
   "outputs": [],
   "source": [
    "viewer = Viewer()"
   ]
  },
  {
   "cell_type": "code",
   "execution_count": 3,
   "id": "ae111626-98e6-4d69-bf92-e67a59b3cbaa",
   "metadata": {},
   "outputs": [
    {
     "data": {
      "text/plain": [
       "'09d3ea37-dea6-4957-b2ea-2de6fe39a634'"
      ]
     },
     "execution_count": 3,
     "metadata": {},
     "output_type": "execute_result"
    }
   ],
   "source": [
    "esdc = xr.open_dataset(\"s3://esdl-esdc-v2.1.1/esdc-8d-0.25deg-1x720x1440-2.1.1.zarr\", engine=\"zarr\")\n",
    "viewer.add_dataset(esdc, title=\"ESDC 2.1.1\")"
   ]
  },
  {
   "cell_type": "code",
   "execution_count": 4,
   "id": "c03a6912-9879-4b7e-a2c9-25c141a548fb",
   "metadata": {},
   "outputs": [
    {
     "data": {
      "text/html": [
       "<iframe src=\"http://localhost:8000/viewer/?serverUrl=http://localhost:8000&compact=1\" width=\"100%\" height=\"800\"/>"
      ],
      "text/plain": [
       "<IPython.core.display.HTML object>"
      ]
     },
     "execution_count": 4,
     "metadata": {},
     "output_type": "execute_result"
    }
   ],
   "source": [
    "viewer.show()"
   ]
  },
  {
   "cell_type": "code",
   "execution_count": 5,
   "id": "99a3f409-85d3-46cf-96b3-0113abee5910",
   "metadata": {},
   "outputs": [
    {
     "name": "stdout",
     "output_type": "stream",
     "text": [
      "Server: http://localhost:8000\n",
      "Viewer: http://localhost:8000/viewer/?serverUrl=http://localhost:8000\n"
     ]
    },
    {
     "name": "stderr",
     "output_type": "stream",
     "text": [
      "Can't determine indexer timezone; leaving it unmodified.\n",
      "Can't determine indexer timezone; leaving it unmodified.\n",
      "Can't determine indexer timezone; leaving it unmodified.\n",
      "Can't determine indexer timezone; leaving it unmodified.\n",
      "Can't determine indexer timezone; leaving it unmodified.\n",
      "Can't determine indexer timezone; leaving it unmodified.\n",
      "Can't determine indexer timezone; leaving it unmodified.\n",
      "Can't determine indexer timezone; leaving it unmodified.\n",
      "Can't determine indexer timezone; leaving it unmodified.\n",
      "Can't determine indexer timezone; leaving it unmodified.\n",
      "Can't determine indexer timezone; leaving it unmodified.\n",
      "Can't determine indexer timezone; leaving it unmodified.\n",
      "Can't determine indexer timezone; leaving it unmodified.\n",
      "Can't determine indexer timezone; leaving it unmodified.\n",
      "Can't determine indexer timezone; leaving it unmodified.\n",
      "Can't determine indexer timezone; leaving it unmodified.\n",
      "Can't determine indexer timezone; leaving it unmodified.\n",
      "Can't determine indexer timezone; leaving it unmodified.\n",
      "Can't determine indexer timezone; leaving it unmodified.\n",
      "Can't determine indexer timezone; leaving it unmodified.\n",
      "Can't determine indexer timezone; leaving it unmodified.\n",
      "Can't determine indexer timezone; leaving it unmodified.\n",
      "Can't determine indexer timezone; leaving it unmodified.\n",
      "Can't determine indexer timezone; leaving it unmodified.\n",
      "Can't determine indexer timezone; leaving it unmodified.\n",
      "Can't determine indexer timezone; leaving it unmodified.\n",
      "Can't determine indexer timezone; leaving it unmodified.\n",
      "Can't determine indexer timezone; leaving it unmodified.\n",
      "Can't determine indexer timezone; leaving it unmodified.\n",
      "Can't determine indexer timezone; leaving it unmodified.\n",
      "Can't determine indexer timezone; leaving it unmodified.\n",
      "Can't determine indexer timezone; leaving it unmodified.\n",
      "Can't determine indexer timezone; leaving it unmodified.\n",
      "Can't determine indexer timezone; leaving it unmodified.\n",
      "Can't determine indexer timezone; leaving it unmodified.\n",
      "Can't determine indexer timezone; leaving it unmodified.\n",
      "Can't determine indexer timezone; leaving it unmodified.\n",
      "Can't determine indexer timezone; leaving it unmodified.\n",
      "Can't determine indexer timezone; leaving it unmodified.\n",
      "Can't determine indexer timezone; leaving it unmodified.\n",
      "Can't determine indexer timezone; leaving it unmodified.\n",
      "Can't determine indexer timezone; leaving it unmodified.\n"
     ]
    }
   ],
   "source": [
    "viewer.info()"
   ]
  },
  {
   "cell_type": "code",
   "execution_count": null,
   "id": "765e29e6-a10c-4096-8086-dce280130be5",
   "metadata": {},
   "outputs": [],
   "source": []
  }
 ],
 "metadata": {
  "kernelspec": {
   "display_name": "Python 3 (ipykernel)",
   "language": "python",
   "name": "python3"
  },
  "language_info": {
   "codemirror_mode": {
    "name": "ipython",
    "version": 3
   },
   "file_extension": ".py",
   "mimetype": "text/x-python",
   "name": "python",
   "nbconvert_exporter": "python",
   "pygments_lexer": "ipython3",
   "version": "3.9.13"
  }
 },
 "nbformat": 4,
 "nbformat_minor": 5
}
