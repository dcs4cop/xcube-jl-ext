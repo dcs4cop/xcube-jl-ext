{
 "cells": [
  {
   "cell_type": "code",
   "execution_count": 1,
   "id": "7da4953c-7143-4932-8db8-946d647f7c68",
   "metadata": {},
   "outputs": [],
   "source": [
    "from xcube.webapi.iserver import InteractiveServer\n",
    "import xarray as xr"
   ]
  },
  {
   "cell_type": "code",
   "execution_count": 2,
   "id": "51c02ca2-a19a-4dfc-927e-4a2cb931a953",
   "metadata": {},
   "outputs": [
    {
     "name": "stdout",
     "output_type": "stream",
     "text": [
      "Server: http://localhost:8000\n",
      "Viewer: http://localhost:8000/viewer/?serverUrl=http://localhost:8000\n"
     ]
    }
   ],
   "source": [
    "server = InteractiveServer()"
   ]
  },
  {
   "cell_type": "code",
   "execution_count": 3,
   "id": "ae111626-98e6-4d69-bf92-e67a59b3cbaa",
   "metadata": {},
   "outputs": [
    {
     "data": {
      "text/plain": [
       "'ea02a708-ac38-491c-b9e3-d32a02685b0e'"
      ]
     },
     "execution_count": 3,
     "metadata": {},
     "output_type": "execute_result"
    }
   ],
   "source": [
    "esdc = xr.open_dataset(\"s3://esdl-esdc-v2.1.1/esdc-8d-0.25deg-1x720x1440-2.1.1.zarr\", engine=\"zarr\")\n",
    "server.add_dataset(esdc, title=\"ESDC 2.1.1\")"
   ]
  },
  {
   "cell_type": "code",
   "execution_count": 4,
   "id": "c03a6912-9879-4b7e-a2c9-25c141a548fb",
   "metadata": {},
   "outputs": [
    {
     "data": {
      "text/html": [
       "<iframe src=\"http://localhost:8000/viewer/?serverUrl=http://localhost:8000\" width=\"100%\" height=\"800\"/>"
      ],
      "text/plain": [
       "<IPython.core.display.HTML object>"
      ]
     },
     "execution_count": 4,
     "metadata": {},
     "output_type": "execute_result"
    }
   ],
   "source": [
    "server.show()"
   ]
  },
  {
   "cell_type": "code",
   "execution_count": null,
   "id": "99a3f409-85d3-46cf-96b3-0113abee5910",
   "metadata": {},
   "outputs": [],
   "source": []
  }
 ],
 "metadata": {
  "kernelspec": {
   "display_name": "Python 3 (ipykernel)",
   "language": "python",
   "name": "python3"
  },
  "language_info": {
   "codemirror_mode": {
    "name": "ipython",
    "version": 3
   },
   "file_extension": ".py",
   "mimetype": "text/x-python",
   "name": "python",
   "nbconvert_exporter": "python",
   "pygments_lexer": "ipython3",
   "version": "3.9.15"
  }
 },
 "nbformat": 4,
 "nbformat_minor": 5
}
